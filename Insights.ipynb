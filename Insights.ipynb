{
 "cells": [
  {
   "cell_type": "markdown",
   "metadata": {},
   "source": [
    "# Statistical Properties of Limit Order Books\n",
    "\n",
    "This notebook focuses on observing some fundamental empirical facts of Limit Order Book. Basic statistical properties of limit order books, which can be observed from real data (intraday) are studied.\n",
    "\n",
    "The data is obtained from [TAQ data NYSE](https://www.nyse.com/market-data/historical/taq-integrated-feed) which contains data of all trade, depth of book, stock summary, order imbalance of all stocks traded on NYSE.\n",
    "\n",
    "Information about AAPL stock on 03.03.2020 is used for the observation."
   ]
  },
  {
   "cell_type": "code",
   "execution_count": 1,
   "metadata": {},
   "outputs": [],
   "source": [
    "import numpy as np\n",
    "import pandas as pd\n",
    "import matplotlib.pyplot as plt\n",
    "\n",
    "from scipy import stats\n",
    "from statsmodels.distributions.empirical_distribution import ECDF"
   ]
  },
  {
   "cell_type": "code",
   "execution_count": 2,
   "metadata": {},
   "outputs": [],
   "source": [
    "import math\n",
    "import time\n",
    "import datetime"
   ]
  },
  {
   "cell_type": "markdown",
   "metadata": {},
   "source": [
    "## 1. Data Importing and Cleaning"
   ]
  },
  {
   "cell_type": "code",
   "execution_count": 3,
   "metadata": {},
   "outputs": [],
   "source": [
    "df = pd.read_csv(\"aapl_ibf.csv\", header=None)"
   ]
  },
  {
   "cell_type": "code",
   "execution_count": 4,
   "metadata": {},
   "outputs": [
    {
     "data": {
      "text/html": [
       "<div>\n",
       "<style scoped>\n",
       "    .dataframe tbody tr th:only-of-type {\n",
       "        vertical-align: middle;\n",
       "    }\n",
       "\n",
       "    .dataframe tbody tr th {\n",
       "        vertical-align: top;\n",
       "    }\n",
       "\n",
       "    .dataframe thead th {\n",
       "        text-align: right;\n",
       "    }\n",
       "</style>\n",
       "<table border=\"1\" class=\"dataframe\">\n",
       "  <thead>\n",
       "    <tr style=\"text-align: right;\">\n",
       "      <th></th>\n",
       "      <th>0</th>\n",
       "      <th>1</th>\n",
       "      <th>2</th>\n",
       "      <th>3</th>\n",
       "      <th>4</th>\n",
       "      <th>5</th>\n",
       "      <th>6</th>\n",
       "      <th>7</th>\n",
       "      <th>8</th>\n",
       "      <th>9</th>\n",
       "      <th>10</th>\n",
       "      <th>11</th>\n",
       "      <th>12</th>\n",
       "      <th>13</th>\n",
       "    </tr>\n",
       "  </thead>\n",
       "  <tbody>\n",
       "    <tr>\n",
       "      <td>0</td>\n",
       "      <td>3</td>\n",
       "      <td>5187</td>\n",
       "      <td>AAPL</td>\n",
       "      <td>9</td>\n",
       "      <td>55</td>\n",
       "      <td>Q</td>\n",
       "      <td>C</td>\n",
       "      <td>100.0</td>\n",
       "      <td>298.81</td>\n",
       "      <td>0</td>\n",
       "      <td>0.0</td>\n",
       "      <td>N</td>\n",
       "      <td>.0001</td>\n",
       "      <td>1</td>\n",
       "    </tr>\n",
       "    <tr>\n",
       "      <td>1</td>\n",
       "      <td>34</td>\n",
       "      <td>5189</td>\n",
       "      <td>00:21:39.955956224</td>\n",
       "      <td>AAPL</td>\n",
       "      <td>1</td>\n",
       "      <td>P</td>\n",
       "      <td>~</td>\n",
       "      <td>NaN</td>\n",
       "      <td>NaN</td>\n",
       "      <td>NaN</td>\n",
       "      <td>NaN</td>\n",
       "      <td>NaN</td>\n",
       "      <td>~</td>\n",
       "      <td>P</td>\n",
       "    </tr>\n",
       "    <tr>\n",
       "      <td>2</td>\n",
       "      <td>34</td>\n",
       "      <td>5502</td>\n",
       "      <td>03:58:00.001130752</td>\n",
       "      <td>AAPL</td>\n",
       "      <td>2</td>\n",
       "      <td>D</td>\n",
       "      <td>~</td>\n",
       "      <td>NaN</td>\n",
       "      <td>NaN</td>\n",
       "      <td>NaN</td>\n",
       "      <td>NaN</td>\n",
       "      <td>NaN</td>\n",
       "      <td>~</td>\n",
       "      <td>P</td>\n",
       "    </tr>\n",
       "    <tr>\n",
       "      <td>3</td>\n",
       "      <td>34</td>\n",
       "      <td>8330</td>\n",
       "      <td>07:00:00.016579072</td>\n",
       "      <td>AAPL</td>\n",
       "      <td>3</td>\n",
       "      <td>E</td>\n",
       "      <td>~</td>\n",
       "      <td>NaN</td>\n",
       "      <td>NaN</td>\n",
       "      <td>NaN</td>\n",
       "      <td>NaN</td>\n",
       "      <td>NaN</td>\n",
       "      <td>~</td>\n",
       "      <td>E</td>\n",
       "    </tr>\n",
       "    <tr>\n",
       "      <td>4</td>\n",
       "      <td>100</td>\n",
       "      <td>8331</td>\n",
       "      <td>07:00:00.016579840</td>\n",
       "      <td>AAPL</td>\n",
       "      <td>4</td>\n",
       "      <td>15481162373791751</td>\n",
       "      <td>268.88</td>\n",
       "      <td>5.0</td>\n",
       "      <td>B</td>\n",
       "      <td></td>\n",
       "      <td>0.0</td>\n",
       "      <td>NaN</td>\n",
       "      <td>NaN</td>\n",
       "      <td>NaN</td>\n",
       "    </tr>\n",
       "  </tbody>\n",
       "</table>\n",
       "</div>"
      ],
      "text/plain": [
       "    0     1                   2     3   4                  5       6      7   \\\n",
       "0    3  5187                AAPL     9  55                  Q       C  100.0   \n",
       "1   34  5189  00:21:39.955956224  AAPL   1                  P       ~    NaN   \n",
       "2   34  5502  03:58:00.001130752  AAPL   2                  D       ~    NaN   \n",
       "3   34  8330  07:00:00.016579072  AAPL   3                  E       ~    NaN   \n",
       "4  100  8331  07:00:00.016579840  AAPL   4  15481162373791751  268.88    5.0   \n",
       "\n",
       "       8      9    10   11     12   13  \n",
       "0  298.81      0  0.0    N  .0001    1  \n",
       "1     NaN    NaN  NaN  NaN      ~    P  \n",
       "2     NaN    NaN  NaN  NaN      ~    P  \n",
       "3     NaN    NaN  NaN  NaN      ~    E  \n",
       "4       B         0.0  NaN    NaN  NaN  "
      ]
     },
     "execution_count": 4,
     "metadata": {},
     "output_type": "execute_result"
    }
   ],
   "source": [
    "df.head()"
   ]
  },
  {
   "cell_type": "markdown",
   "metadata": {},
   "source": [
    "Here the 0th column shows the MsgType of the event.\n",
    "\n",
    "Extracting add order msgs (MsgType:100)"
   ]
  },
  {
   "cell_type": "code",
   "execution_count": 5,
   "metadata": {},
   "outputs": [],
   "source": [
    "add_ord_df = df[df[0]==100]\n",
    "add_ord_df.columns = ['msgType', 'seqNo', 'time', 'sym', 'symSeqNo', 'ordId', 'price', 'volume', 'side', 'nine', 'ten', 'eleven', 'twelve', 'thirteen']"
   ]
  },
  {
   "cell_type": "code",
   "execution_count": 6,
   "metadata": {},
   "outputs": [
    {
     "data": {
      "text/html": [
       "<div>\n",
       "<style scoped>\n",
       "    .dataframe tbody tr th:only-of-type {\n",
       "        vertical-align: middle;\n",
       "    }\n",
       "\n",
       "    .dataframe tbody tr th {\n",
       "        vertical-align: top;\n",
       "    }\n",
       "\n",
       "    .dataframe thead th {\n",
       "        text-align: right;\n",
       "    }\n",
       "</style>\n",
       "<table border=\"1\" class=\"dataframe\">\n",
       "  <thead>\n",
       "    <tr style=\"text-align: right;\">\n",
       "      <th></th>\n",
       "      <th>msgType</th>\n",
       "      <th>seqNo</th>\n",
       "      <th>time</th>\n",
       "      <th>sym</th>\n",
       "      <th>symSeqNo</th>\n",
       "      <th>ordId</th>\n",
       "      <th>price</th>\n",
       "      <th>volume</th>\n",
       "      <th>side</th>\n",
       "      <th>nine</th>\n",
       "      <th>ten</th>\n",
       "      <th>eleven</th>\n",
       "      <th>twelve</th>\n",
       "      <th>thirteen</th>\n",
       "    </tr>\n",
       "  </thead>\n",
       "  <tbody>\n",
       "    <tr>\n",
       "      <td>4</td>\n",
       "      <td>100</td>\n",
       "      <td>8331</td>\n",
       "      <td>07:00:00.016579840</td>\n",
       "      <td>AAPL</td>\n",
       "      <td>4</td>\n",
       "      <td>15481162373791751</td>\n",
       "      <td>268.88</td>\n",
       "      <td>5.0</td>\n",
       "      <td>B</td>\n",
       "      <td></td>\n",
       "      <td>0.0</td>\n",
       "      <td>NaN</td>\n",
       "      <td>NaN</td>\n",
       "      <td>NaN</td>\n",
       "    </tr>\n",
       "    <tr>\n",
       "      <td>5</td>\n",
       "      <td>100</td>\n",
       "      <td>9199</td>\n",
       "      <td>07:25:12.713550336</td>\n",
       "      <td>AAPL</td>\n",
       "      <td>5</td>\n",
       "      <td>15481162373795648</td>\n",
       "      <td>302</td>\n",
       "      <td>1000.0</td>\n",
       "      <td>S</td>\n",
       "      <td></td>\n",
       "      <td>0.0</td>\n",
       "      <td>NaN</td>\n",
       "      <td>NaN</td>\n",
       "      <td>NaN</td>\n",
       "    </tr>\n",
       "    <tr>\n",
       "      <td>11</td>\n",
       "      <td>100</td>\n",
       "      <td>12849</td>\n",
       "      <td>08:01:26.327212800</td>\n",
       "      <td>AAPL</td>\n",
       "      <td>11</td>\n",
       "      <td>15481162373804873</td>\n",
       "      <td>300.8</td>\n",
       "      <td>875.0</td>\n",
       "      <td>B</td>\n",
       "      <td></td>\n",
       "      <td>0.0</td>\n",
       "      <td>NaN</td>\n",
       "      <td>NaN</td>\n",
       "      <td>NaN</td>\n",
       "    </tr>\n",
       "    <tr>\n",
       "      <td>17</td>\n",
       "      <td>100</td>\n",
       "      <td>13648</td>\n",
       "      <td>08:06:46.675132672</td>\n",
       "      <td>AAPL</td>\n",
       "      <td>17</td>\n",
       "      <td>15481162373806079</td>\n",
       "      <td>300</td>\n",
       "      <td>35.0</td>\n",
       "      <td>S</td>\n",
       "      <td></td>\n",
       "      <td>0.0</td>\n",
       "      <td>NaN</td>\n",
       "      <td>NaN</td>\n",
       "      <td>NaN</td>\n",
       "    </tr>\n",
       "    <tr>\n",
       "      <td>19</td>\n",
       "      <td>100</td>\n",
       "      <td>16448</td>\n",
       "      <td>08:25:56.033052416</td>\n",
       "      <td>AAPL</td>\n",
       "      <td>19</td>\n",
       "      <td>15481162373809085</td>\n",
       "      <td>302.83</td>\n",
       "      <td>100.0</td>\n",
       "      <td>S</td>\n",
       "      <td></td>\n",
       "      <td>0.0</td>\n",
       "      <td>NaN</td>\n",
       "      <td>NaN</td>\n",
       "      <td>NaN</td>\n",
       "    </tr>\n",
       "  </tbody>\n",
       "</table>\n",
       "</div>"
      ],
      "text/plain": [
       "    msgType  seqNo                time   sym  symSeqNo              ordId  \\\n",
       "4       100   8331  07:00:00.016579840  AAPL         4  15481162373791751   \n",
       "5       100   9199  07:25:12.713550336  AAPL         5  15481162373795648   \n",
       "11      100  12849  08:01:26.327212800  AAPL        11  15481162373804873   \n",
       "17      100  13648  08:06:46.675132672  AAPL        17  15481162373806079   \n",
       "19      100  16448  08:25:56.033052416  AAPL        19  15481162373809085   \n",
       "\n",
       "     price  volume side   nine  ten eleven twelve thirteen  \n",
       "4   268.88     5.0    B         0.0    NaN    NaN      NaN  \n",
       "5      302  1000.0    S         0.0    NaN    NaN      NaN  \n",
       "11   300.8   875.0    B         0.0    NaN    NaN      NaN  \n",
       "17     300    35.0    S         0.0    NaN    NaN      NaN  \n",
       "19  302.83   100.0    S         0.0    NaN    NaN      NaN  "
      ]
     },
     "execution_count": 6,
     "metadata": {},
     "output_type": "execute_result"
    }
   ],
   "source": [
    "add_ord_df.head()"
   ]
  },
  {
   "cell_type": "markdown",
   "metadata": {},
   "source": [
    "Removing columns 9 - 13."
   ]
  },
  {
   "cell_type": "code",
   "execution_count": 7,
   "metadata": {
    "scrolled": true
   },
   "outputs": [
    {
     "name": "stderr",
     "output_type": "stream",
     "text": [
      "/opt/anaconda3/lib/python3.7/site-packages/pandas/core/frame.py:4102: SettingWithCopyWarning: \n",
      "A value is trying to be set on a copy of a slice from a DataFrame\n",
      "\n",
      "See the caveats in the documentation: http://pandas.pydata.org/pandas-docs/stable/user_guide/indexing.html#returning-a-view-versus-a-copy\n",
      "  errors=errors,\n"
     ]
    }
   ],
   "source": [
    "add_ord_df.drop(['nine', 'ten', 'eleven', 'twelve', 'thirteen'], axis=1, inplace=True)"
   ]
  },
  {
   "cell_type": "code",
   "execution_count": 8,
   "metadata": {},
   "outputs": [
    {
     "data": {
      "text/html": [
       "<div>\n",
       "<style scoped>\n",
       "    .dataframe tbody tr th:only-of-type {\n",
       "        vertical-align: middle;\n",
       "    }\n",
       "\n",
       "    .dataframe tbody tr th {\n",
       "        vertical-align: top;\n",
       "    }\n",
       "\n",
       "    .dataframe thead th {\n",
       "        text-align: right;\n",
       "    }\n",
       "</style>\n",
       "<table border=\"1\" class=\"dataframe\">\n",
       "  <thead>\n",
       "    <tr style=\"text-align: right;\">\n",
       "      <th></th>\n",
       "      <th>msgType</th>\n",
       "      <th>seqNo</th>\n",
       "      <th>time</th>\n",
       "      <th>sym</th>\n",
       "      <th>symSeqNo</th>\n",
       "      <th>ordId</th>\n",
       "      <th>price</th>\n",
       "      <th>volume</th>\n",
       "      <th>side</th>\n",
       "    </tr>\n",
       "  </thead>\n",
       "  <tbody>\n",
       "    <tr>\n",
       "      <td>4</td>\n",
       "      <td>100</td>\n",
       "      <td>8331</td>\n",
       "      <td>07:00:00.016579840</td>\n",
       "      <td>AAPL</td>\n",
       "      <td>4</td>\n",
       "      <td>15481162373791751</td>\n",
       "      <td>268.88</td>\n",
       "      <td>5.0</td>\n",
       "      <td>B</td>\n",
       "    </tr>\n",
       "    <tr>\n",
       "      <td>5</td>\n",
       "      <td>100</td>\n",
       "      <td>9199</td>\n",
       "      <td>07:25:12.713550336</td>\n",
       "      <td>AAPL</td>\n",
       "      <td>5</td>\n",
       "      <td>15481162373795648</td>\n",
       "      <td>302</td>\n",
       "      <td>1000.0</td>\n",
       "      <td>S</td>\n",
       "    </tr>\n",
       "    <tr>\n",
       "      <td>11</td>\n",
       "      <td>100</td>\n",
       "      <td>12849</td>\n",
       "      <td>08:01:26.327212800</td>\n",
       "      <td>AAPL</td>\n",
       "      <td>11</td>\n",
       "      <td>15481162373804873</td>\n",
       "      <td>300.8</td>\n",
       "      <td>875.0</td>\n",
       "      <td>B</td>\n",
       "    </tr>\n",
       "    <tr>\n",
       "      <td>17</td>\n",
       "      <td>100</td>\n",
       "      <td>13648</td>\n",
       "      <td>08:06:46.675132672</td>\n",
       "      <td>AAPL</td>\n",
       "      <td>17</td>\n",
       "      <td>15481162373806079</td>\n",
       "      <td>300</td>\n",
       "      <td>35.0</td>\n",
       "      <td>S</td>\n",
       "    </tr>\n",
       "    <tr>\n",
       "      <td>19</td>\n",
       "      <td>100</td>\n",
       "      <td>16448</td>\n",
       "      <td>08:25:56.033052416</td>\n",
       "      <td>AAPL</td>\n",
       "      <td>19</td>\n",
       "      <td>15481162373809085</td>\n",
       "      <td>302.83</td>\n",
       "      <td>100.0</td>\n",
       "      <td>S</td>\n",
       "    </tr>\n",
       "  </tbody>\n",
       "</table>\n",
       "</div>"
      ],
      "text/plain": [
       "    msgType  seqNo                time   sym  symSeqNo              ordId  \\\n",
       "4       100   8331  07:00:00.016579840  AAPL         4  15481162373791751   \n",
       "5       100   9199  07:25:12.713550336  AAPL         5  15481162373795648   \n",
       "11      100  12849  08:01:26.327212800  AAPL        11  15481162373804873   \n",
       "17      100  13648  08:06:46.675132672  AAPL        17  15481162373806079   \n",
       "19      100  16448  08:25:56.033052416  AAPL        19  15481162373809085   \n",
       "\n",
       "     price  volume side  \n",
       "4   268.88     5.0    B  \n",
       "5      302  1000.0    S  \n",
       "11   300.8   875.0    B  \n",
       "17     300    35.0    S  \n",
       "19  302.83   100.0    S  "
      ]
     },
     "execution_count": 8,
     "metadata": {},
     "output_type": "execute_result"
    }
   ],
   "source": [
    "add_ord_df.head()"
   ]
  },
  {
   "cell_type": "code",
   "execution_count": 9,
   "metadata": {},
   "outputs": [
    {
     "data": {
      "text/plain": [
       "msgType       int64\n",
       "seqNo         int64\n",
       "time         object\n",
       "sym          object\n",
       "symSeqNo      int64\n",
       "ordId        object\n",
       "price        object\n",
       "volume      float64\n",
       "side         object\n",
       "dtype: object"
      ]
     },
     "execution_count": 9,
     "metadata": {},
     "output_type": "execute_result"
    }
   ],
   "source": [
    "add_ord_df.dtypes"
   ]
  },
  {
   "cell_type": "code",
   "execution_count": 10,
   "metadata": {},
   "outputs": [],
   "source": [
    "def strTons(string):\n",
    "    ts = string.split('.')\n",
    "    hms = ts[0].split(':')\n",
    "    ns = ts[1]\n",
    "    return pd.Timestamp(2020, 3, 3, int(hms[0]), int(hms[1]), int(hms[2]), int(ns[:3])).value // 1000000"
   ]
  },
  {
   "cell_type": "code",
   "execution_count": 87,
   "metadata": {},
   "outputs": [
    {
     "name": "stderr",
     "output_type": "stream",
     "text": [
      "/opt/anaconda3/lib/python3.7/site-packages/ipykernel_launcher.py:1: SettingWithCopyWarning: \n",
      "A value is trying to be set on a copy of a slice from a DataFrame.\n",
      "Try using .loc[row_indexer,col_indexer] = value instead\n",
      "\n",
      "See the caveats in the documentation: http://pandas.pydata.org/pandas-docs/stable/user_guide/indexing.html#returning-a-view-versus-a-copy\n",
      "  \"\"\"Entry point for launching an IPython kernel.\n"
     ]
    }
   ],
   "source": [
    "add_ord_df['time'] = add_ord_df['time'].apply(func=strTons)"
   ]
  },
  {
   "cell_type": "code",
   "execution_count": 88,
   "metadata": {},
   "outputs": [
    {
     "data": {
      "text/html": [
       "<div>\n",
       "<style scoped>\n",
       "    .dataframe tbody tr th:only-of-type {\n",
       "        vertical-align: middle;\n",
       "    }\n",
       "\n",
       "    .dataframe tbody tr th {\n",
       "        vertical-align: top;\n",
       "    }\n",
       "\n",
       "    .dataframe thead th {\n",
       "        text-align: right;\n",
       "    }\n",
       "</style>\n",
       "<table border=\"1\" class=\"dataframe\">\n",
       "  <thead>\n",
       "    <tr style=\"text-align: right;\">\n",
       "      <th></th>\n",
       "      <th>msgType</th>\n",
       "      <th>seqNo</th>\n",
       "      <th>time</th>\n",
       "      <th>sym</th>\n",
       "      <th>symSeqNo</th>\n",
       "      <th>ordId</th>\n",
       "      <th>price</th>\n",
       "      <th>volume</th>\n",
       "      <th>side</th>\n",
       "    </tr>\n",
       "  </thead>\n",
       "  <tbody>\n",
       "    <tr>\n",
       "      <td>4</td>\n",
       "      <td>100</td>\n",
       "      <td>8331</td>\n",
       "      <td>1583218800000</td>\n",
       "      <td>AAPL</td>\n",
       "      <td>4</td>\n",
       "      <td>15481162373791751</td>\n",
       "      <td>268.88</td>\n",
       "      <td>5.0</td>\n",
       "      <td>B</td>\n",
       "    </tr>\n",
       "    <tr>\n",
       "      <td>5</td>\n",
       "      <td>100</td>\n",
       "      <td>9199</td>\n",
       "      <td>1583220312000</td>\n",
       "      <td>AAPL</td>\n",
       "      <td>5</td>\n",
       "      <td>15481162373795648</td>\n",
       "      <td>302</td>\n",
       "      <td>1000.0</td>\n",
       "      <td>S</td>\n",
       "    </tr>\n",
       "    <tr>\n",
       "      <td>11</td>\n",
       "      <td>100</td>\n",
       "      <td>12849</td>\n",
       "      <td>1583222486000</td>\n",
       "      <td>AAPL</td>\n",
       "      <td>11</td>\n",
       "      <td>15481162373804873</td>\n",
       "      <td>300.8</td>\n",
       "      <td>875.0</td>\n",
       "      <td>B</td>\n",
       "    </tr>\n",
       "    <tr>\n",
       "      <td>17</td>\n",
       "      <td>100</td>\n",
       "      <td>13648</td>\n",
       "      <td>1583222806000</td>\n",
       "      <td>AAPL</td>\n",
       "      <td>17</td>\n",
       "      <td>15481162373806079</td>\n",
       "      <td>300</td>\n",
       "      <td>35.0</td>\n",
       "      <td>S</td>\n",
       "    </tr>\n",
       "    <tr>\n",
       "      <td>19</td>\n",
       "      <td>100</td>\n",
       "      <td>16448</td>\n",
       "      <td>1583223956000</td>\n",
       "      <td>AAPL</td>\n",
       "      <td>19</td>\n",
       "      <td>15481162373809085</td>\n",
       "      <td>302.83</td>\n",
       "      <td>100.0</td>\n",
       "      <td>S</td>\n",
       "    </tr>\n",
       "  </tbody>\n",
       "</table>\n",
       "</div>"
      ],
      "text/plain": [
       "    msgType  seqNo           time   sym  symSeqNo              ordId   price  \\\n",
       "4       100   8331  1583218800000  AAPL         4  15481162373791751  268.88   \n",
       "5       100   9199  1583220312000  AAPL         5  15481162373795648     302   \n",
       "11      100  12849  1583222486000  AAPL        11  15481162373804873   300.8   \n",
       "17      100  13648  1583222806000  AAPL        17  15481162373806079     300   \n",
       "19      100  16448  1583223956000  AAPL        19  15481162373809085  302.83   \n",
       "\n",
       "    volume side  \n",
       "4      5.0    B  \n",
       "5   1000.0    S  \n",
       "11   875.0    B  \n",
       "17    35.0    S  \n",
       "19   100.0    S  "
      ]
     },
     "execution_count": 88,
     "metadata": {},
     "output_type": "execute_result"
    }
   ],
   "source": [
    "add_ord_df.head()"
   ]
  },
  {
   "cell_type": "code",
   "execution_count": 93,
   "metadata": {},
   "outputs": [
    {
     "name": "stdout",
     "output_type": "stream",
     "text": [
      "1583227800000 1583251200000\n"
     ]
    }
   ],
   "source": [
    "start_time = strTons('09:30:00.000000000')\n",
    "end_time = strTons('16:00:00.000000000')\n",
    "print(start_time, end_time)"
   ]
  },
  {
   "cell_type": "code",
   "execution_count": 91,
   "metadata": {},
   "outputs": [],
   "source": [
    "add_ord_df = add_ord_df[add_ord_df['time'] > start_time]\n",
    "add_ord_df = add_ord_df[add_ord_df['time'] < end_time]"
   ]
  },
  {
   "cell_type": "code",
   "execution_count": 92,
   "metadata": {},
   "outputs": [
    {
     "data": {
      "text/html": [
       "<div>\n",
       "<style scoped>\n",
       "    .dataframe tbody tr th:only-of-type {\n",
       "        vertical-align: middle;\n",
       "    }\n",
       "\n",
       "    .dataframe tbody tr th {\n",
       "        vertical-align: top;\n",
       "    }\n",
       "\n",
       "    .dataframe thead th {\n",
       "        text-align: right;\n",
       "    }\n",
       "</style>\n",
       "<table border=\"1\" class=\"dataframe\">\n",
       "  <thead>\n",
       "    <tr style=\"text-align: right;\">\n",
       "      <th></th>\n",
       "      <th>msgType</th>\n",
       "      <th>seqNo</th>\n",
       "      <th>time</th>\n",
       "      <th>sym</th>\n",
       "      <th>symSeqNo</th>\n",
       "      <th>ordId</th>\n",
       "      <th>price</th>\n",
       "      <th>volume</th>\n",
       "      <th>side</th>\n",
       "    </tr>\n",
       "  </thead>\n",
       "  <tbody>\n",
       "    <tr>\n",
       "      <td>43</td>\n",
       "      <td>100</td>\n",
       "      <td>44286</td>\n",
       "      <td>1583227801000</td>\n",
       "      <td>AAPL</td>\n",
       "      <td>43</td>\n",
       "      <td>15481162373827364</td>\n",
       "      <td>303.52</td>\n",
       "      <td>100.0</td>\n",
       "      <td>S</td>\n",
       "    </tr>\n",
       "    <tr>\n",
       "      <td>46</td>\n",
       "      <td>100</td>\n",
       "      <td>45033</td>\n",
       "      <td>1583227802000</td>\n",
       "      <td>AAPL</td>\n",
       "      <td>46</td>\n",
       "      <td>15481162373828750</td>\n",
       "      <td>300.51</td>\n",
       "      <td>1.0</td>\n",
       "      <td>B</td>\n",
       "    </tr>\n",
       "    <tr>\n",
       "      <td>47</td>\n",
       "      <td>100</td>\n",
       "      <td>45506</td>\n",
       "      <td>1583227803000</td>\n",
       "      <td>AAPL</td>\n",
       "      <td>47</td>\n",
       "      <td>15481162373829758</td>\n",
       "      <td>303.81</td>\n",
       "      <td>100.0</td>\n",
       "      <td>S</td>\n",
       "    </tr>\n",
       "    <tr>\n",
       "      <td>48</td>\n",
       "      <td>100</td>\n",
       "      <td>45781</td>\n",
       "      <td>1583227803000</td>\n",
       "      <td>AAPL</td>\n",
       "      <td>48</td>\n",
       "      <td>15481162373830010</td>\n",
       "      <td>298.54</td>\n",
       "      <td>100.0</td>\n",
       "      <td>B</td>\n",
       "    </tr>\n",
       "    <tr>\n",
       "      <td>49</td>\n",
       "      <td>100</td>\n",
       "      <td>45882</td>\n",
       "      <td>1583227804000</td>\n",
       "      <td>AAPL</td>\n",
       "      <td>49</td>\n",
       "      <td>15481162373830145</td>\n",
       "      <td>301.2</td>\n",
       "      <td>200.0</td>\n",
       "      <td>B</td>\n",
       "    </tr>\n",
       "  </tbody>\n",
       "</table>\n",
       "</div>"
      ],
      "text/plain": [
       "    msgType  seqNo           time   sym  symSeqNo              ordId   price  \\\n",
       "43      100  44286  1583227801000  AAPL        43  15481162373827364  303.52   \n",
       "46      100  45033  1583227802000  AAPL        46  15481162373828750  300.51   \n",
       "47      100  45506  1583227803000  AAPL        47  15481162373829758  303.81   \n",
       "48      100  45781  1583227803000  AAPL        48  15481162373830010  298.54   \n",
       "49      100  45882  1583227804000  AAPL        49  15481162373830145   301.2   \n",
       "\n",
       "    volume side  \n",
       "43   100.0    S  \n",
       "46     1.0    B  \n",
       "47   100.0    S  \n",
       "48   100.0    B  \n",
       "49   200.0    B  "
      ]
     },
     "execution_count": 92,
     "metadata": {},
     "output_type": "execute_result"
    }
   ],
   "source": [
    "add_ord_df.head()"
   ]
  },
  {
   "cell_type": "markdown",
   "metadata": {},
   "source": [
    "Converting time from the format 'hh:mm:ss.nnnnnnnnn' to the number of milliseconds passed from the start of day."
   ]
  },
  {
   "cell_type": "markdown",
   "metadata": {},
   "source": [
    "## 2. Time of arrival of orders"
   ]
  },
  {
   "cell_type": "code",
   "execution_count": 13,
   "metadata": {},
   "outputs": [
    {
     "data": {
      "text/plain": [
       "23400000"
      ]
     },
     "execution_count": 13,
     "metadata": {},
     "output_type": "execute_result"
    }
   ],
   "source": [
    "end_time - start_time"
   ]
  },
  {
   "cell_type": "markdown",
   "metadata": {},
   "source": [
    "Total number of milliseconds from the start time to end time of a trading day is 2,34,00,000 ms."
   ]
  },
  {
   "cell_type": "code",
   "execution_count": 11,
   "metadata": {},
   "outputs": [],
   "source": [
    "arr_t_b = pd.Series(add_ord_df[add_ord_df['side']=='B']['time'])\n",
    "arr_t_s = pd.Series(add_ord_df[add_ord_df['side']=='S']['time'])"
   ]
  },
  {
   "cell_type": "code",
   "execution_count": 15,
   "metadata": {},
   "outputs": [],
   "source": [
    "arr_t_b = arr_t_b - start_time\n",
    "arr_t_s = arr_t_s - start_time"
   ]
  },
  {
   "cell_type": "code",
   "execution_count": 48,
   "metadata": {},
   "outputs": [],
   "source": [
    "arr_t_b.index = list(range(1, len(arr_t_b)+1))\n",
    "arr_t_s.index = list(range(1, len(arr_t_s)+1))"
   ]
  },
  {
   "cell_type": "code",
   "execution_count": 17,
   "metadata": {},
   "outputs": [],
   "source": [
    "arr_t_b_count = dict()\n",
    "for i in arr_t_b:\n",
    "    if i in arr_t_b_count:\n",
    "        arr_t_b_count[i] += 1\n",
    "    else:\n",
    "        arr_t_b_count[i] = 1"
   ]
  },
  {
   "cell_type": "code",
   "execution_count": 18,
   "metadata": {},
   "outputs": [],
   "source": [
    "atbc = sorted(arr_t_b_count.items())\n",
    "x,y = zip(*atbc)"
   ]
  },
  {
   "cell_type": "code",
   "execution_count": 72,
   "metadata": {},
   "outputs": [
    {
     "data": {
      "image/png": "[encoded data removed]",
      "text/plain": [
       "<Figure size 864x576 with 1 Axes>"
      ]
     },
     "metadata": {
      "needs_background": "light"
     },
     "output_type": "display_data"
    }
   ],
   "source": [
    "fig = plt.figure(figsize=(12,8))\n",
    "plt.plot(x, y)\n",
    "pd.Series(y, index=x).plot()\n",
    "pd.Series(y, index=x).rolling(window=1000).mean().plot()\n",
    "plt.title(\"Arrival of orders\")\n",
    "plt.ylabel(\"No of orders\")\n",
    "plt.xlabel(\"Time in ms\")\n",
    "plt.show()"
   ]
  },
  {
   "cell_type": "markdown",
   "metadata": {},
   "source": [
    "The graph describes the number of orders arrived on every milliseconds throughout the day."
   ]
  },
  {
   "cell_type": "code",
   "execution_count": 53,
   "metadata": {},
   "outputs": [
    {
     "data": {
      "image/png": "[encoded data removed]",
      "text/plain": [
       "<Figure size 1080x432 with 2 Axes>"
      ]
     },
     "metadata": {
      "needs_background": "light"
     },
     "output_type": "display_data"
    }
   ],
   "source": [
    "fig = plt.figure(figsize=(15,6))\n",
    "ax1 = fig.add_subplot(121)\n",
    "ax2 = fig.add_subplot(122)\n",
    "\n",
    "#arr_t_b.plot()\n",
    "#arr_t_b.rolling(window=3).mean().plot()\n",
    "#ax1 = arr_t_b.plot()\n",
    "ax1.hist(arr_t_b, bins=234)\n",
    "ax1.set_xlabel(\"Time (in ms)\")\n",
    "ax1.set_title(\"Arrival time of Buy orders\")\n",
    "ax1.set_ylabel(\"No of orders\")\n",
    "\n",
    "#arr_t_s.plot()\n",
    "#arr_t_s.rolling(window=3).mean().plot()\n",
    "ax2.hist(arr_t_s, bins=234)\n",
    "ax2.set_title(\"Arrival time of Sell orders\")\n",
    "ax2.set_xlabel(\"Time (in ms)\")\n",
    "ax2.set_ylabel(\"No of orders\")\n",
    "plt.show()"
   ]
  },
  {
   "cell_type": "markdown",
   "metadata": {},
   "source": [
    "It can be observed that it follows a U-shaped pattern which denotes, most stocks were traded at beginning and end of the day."
   ]
  },
  {
   "cell_type": "markdown",
   "metadata": {},
   "source": [
    "Calculating the Inter arrival time of the add new orders."
   ]
  },
  {
   "cell_type": "code",
   "execution_count": 54,
   "metadata": {},
   "outputs": [],
   "source": [
    "iat_b = (np.hstack((arr_t_b.iloc[1:], [0])) - np.array(arr_t_b))[:-1]\n",
    "iat_s = (np.hstack((arr_t_s.iloc[1:], [0])) - np.array(arr_t_s))[:-1]"
   ]
  },
  {
   "cell_type": "code",
   "execution_count": 55,
   "metadata": {},
   "outputs": [],
   "source": [
    "iat_b_count = dict()\n",
    "for i in iat_b:\n",
    "    if i in iat_b_count:\n",
    "        iat_b_count[i] += 1\n",
    "    else:\n",
    "        iat_b_count[i] = 1"
   ]
  },
  {
   "cell_type": "code",
   "execution_count": 56,
   "metadata": {},
   "outputs": [],
   "source": [
    "d = dict(sorted(iat_b_count.items()))\n",
    "d_keys = np.array(list(d.keys()))\n",
    "d_vals = np.array(list(d.values()))\n",
    "mu = d_keys.mean()\n",
    "std = d_keys.std()"
   ]
  },
  {
   "cell_type": "code",
   "execution_count": 57,
   "metadata": {},
   "outputs": [],
   "source": [
    "def movingaverage (values, window):\n",
    "    weights = np.repeat(1.0, window)/window\n",
    "    sma = np.convolve(values, weights, 'valid')\n",
    "    return sma"
   ]
  },
  {
   "cell_type": "code",
   "execution_count": 58,
   "metadata": {},
   "outputs": [],
   "source": [
    "mva = movingaverage(d_keys, 3)"
   ]
  },
  {
   "cell_type": "code",
   "execution_count": 59,
   "metadata": {},
   "outputs": [
    {
     "data": {
      "image/png": "[encoded data removed]",
      "text/plain": [
       "<Figure size 1080x432 with 2 Axes>"
      ]
     },
     "metadata": {
      "needs_background": "light"
     },
     "output_type": "display_data"
    }
   ],
   "source": [
    "fig = plt.figure(figsize=(15, 6))\n",
    "ax1 = fig.add_subplot(121)\n",
    "ax2 = fig.add_subplot(122)\n",
    "ax1.plot(list(range(len(iat_b))), iat_b)\n",
    "ax1.set_xlabel(\"Timesteps\")\n",
    "ax1.set_ylabel(\"Time (in ms)\")\n",
    "ax1.set_title(\"Inter Arrival Times of Buy orders\")\n",
    "ax2.plot(list(range(len(iat_s))), iat_s)\n",
    "ax2.set_xlabel(\"Timesteps\")\n",
    "ax2.set_title(\"Inter Arrival Times of Sell orders\")\n",
    "plt.show()"
   ]
  },
  {
   "cell_type": "markdown",
   "metadata": {},
   "source": [
    "Fitting Empirical Distributions to the inter arrival times."
   ]
  },
  {
   "cell_type": "code",
   "execution_count": 60,
   "metadata": {},
   "outputs": [],
   "source": [
    "e_b = ECDF(iat_b)\n",
    "e_s = ECDF(iat_s)"
   ]
  },
  {
   "cell_type": "code",
   "execution_count": 65,
   "metadata": {},
   "outputs": [],
   "source": [
    "# Exponential Distribution\n",
    "lam = 1/mu\n",
    "ex_pdf = []\n",
    "ex_cdf = []\n",
    "for i in d_keys:\n",
    "    ex_pdf.append(lam*np.exp(-lam*i))\n",
    "    ex_cdf.append(1-np.exp(-lam*i))"
   ]
  },
  {
   "cell_type": "code",
   "execution_count": 66,
   "metadata": {},
   "outputs": [],
   "source": [
    "#Lognormal Distribution\n",
    "ln_pdf = [0]\n",
    "for i in range(1, len(d_keys)):\n",
    "    t = (1/(std*np.sqrt(2*np.pi)))*np.exp(-(np.log(d_keys[i])-mu)**2/(2*std**2))\n",
    "    ln_pdf.append(t)"
   ]
  },
  {
   "cell_type": "code",
   "execution_count": 76,
   "metadata": {
    "scrolled": true
   },
   "outputs": [
    {
     "data": {
      "image/png": "[encoded data removed]",
      "text/plain": [
       "<Figure size 1080x288 with 2 Axes>"
      ]
     },
     "metadata": {
      "needs_background": "light"
     },
     "output_type": "display_data"
    }
   ],
   "source": [
    "fig = plt.figure(figsize=(15, 4))\n",
    "fig.suptitle(\"ECDF of Inter Arrival Times\")\n",
    "ax1 = fig.add_subplot(121)\n",
    "ax2 = fig.add_subplot(122)\n",
    "ax1.plot(e_b.x, e_b.y, label='Empirical')\n",
    "ax1.plot(d_keys, ex_cdf, label='Exponential')\n",
    "ax1.set_title(\"Buy orders\")\n",
    "ax1.set_xlabel(\"Time(in ms)\")\n",
    "ax1.set_ylabel(\"Probability\")\n",
    "ax1.legend()\n",
    "\n",
    "ax2.plot(e_s.x, e_s.y)\n",
    "ax2.set_title(\"Sell orders\")\n",
    "ax2.set_xlabel(\"Time(in ms)\")\n",
    "ax2.set_ylabel(\"Probability\")\n",
    "plt.show()"
   ]
  },
  {
   "cell_type": "markdown",
   "metadata": {},
   "source": [
    "## 3. Quantities of orders"
   ]
  },
  {
   "cell_type": "code",
   "execution_count": 94,
   "metadata": {},
   "outputs": [],
   "source": [
    "vol_b = pd.Series(add_ord_df[add_ord_df['side']=='B']['volume'])\n",
    "vol_s = pd.Series(add_ord_df[add_ord_df['side']=='S']['volume'])\n",
    "vol_b.index = list(range(1, len(arr_t_b)+1))\n",
    "vol_s.index = list(range(1, len(arr_t_s)+1))"
   ]
  },
  {
   "cell_type": "code",
   "execution_count": 100,
   "metadata": {},
   "outputs": [
    {
     "data": {
      "image/png": "[encoded data removed]",
      "text/plain": [
       "<Figure size 720x432 with 1 Axes>"
      ]
     },
     "metadata": {
      "needs_background": "light"
     },
     "output_type": "display_data"
    }
   ],
   "source": [
    "fig = plt.figure(figsize=(10,6))\n",
    "vol_b.plot(marker='o', linestyle='--')\n",
    "plt.title(\"Volume of Buy orders\")\n",
    "plt.xlabel(\"Time\")\n",
    "plt.ylabel(\"Volume of order\")\n",
    "plt.show()"
   ]
  },
  {
   "cell_type": "code",
   "execution_count": 101,
   "metadata": {},
   "outputs": [
    {
     "data": {
      "image/png": "[encoded data removed]",
      "text/plain": [
       "<Figure size 720x432 with 1 Axes>"
      ]
     },
     "metadata": {
      "needs_background": "light"
     },
     "output_type": "display_data"
    }
   ],
   "source": [
    "fig = plt.figure(figsize=(10,6))\n",
    "vol_s.plot(marker='o', linestyle='--')\n",
    "plt.title(\"Volume of Sell orders\")\n",
    "plt.xlabel(\"Time\")\n",
    "plt.ylabel(\"Volume of order\")\n",
    "plt.show()"
   ]
  },
  {
   "cell_type": "markdown",
   "metadata": {},
   "source": [
    "## 4. Price Dynamics"
   ]
  },
  {
   "cell_type": "code",
   "execution_count": 108,
   "metadata": {},
   "outputs": [],
   "source": [
    "pr_b = pd.Series(add_ord_df[add_ord_df['side']=='B']['price']).astype(float)\n",
    "pr_s = pd.Series(add_ord_df[add_ord_df['side']=='S']['price']).astype(float)\n",
    "pr_b.index = list(range(1, len(arr_t_b)+1))\n",
    "pr_s.index = list(range(1, len(arr_t_s)+1))"
   ]
  },
  {
   "cell_type": "code",
   "execution_count": 110,
   "metadata": {},
   "outputs": [
    {
     "data": {
      "image/png": "[encoded data removed]",
      "text/plain": [
       "<Figure size 432x288 with 1 Axes>"
      ]
     },
     "metadata": {
      "needs_background": "light"
     },
     "output_type": "display_data"
    }
   ],
   "source": [
    "pr_b.plot()\n",
    "plt.show()"
   ]
  }
 ],
 "metadata": {
  "kernelspec": {
   "display_name": "Python 3",
   "language": "python",
   "name": "python3"
  },
  "language_info": {
   "codemirror_mode": {
    "name": "ipython",
    "version": 3
   },
   "file_extension": ".py",
   "mimetype": "text/x-python",
   "name": "python",
   "nbconvert_exporter": "python",
   "pygments_lexer": "ipython3",
   "version": "3.7.4"
  }
 },
 "nbformat": 4,
 "nbformat_minor": 2
}
